{
  "nbformat": 4,
  "nbformat_minor": 0,
  "metadata": {
    "colab": {
      "provenance": []
    },
    "kernelspec": {
      "name": "python3",
      "display_name": "Python 3"
    },
    "language_info": {
      "name": "python"
    }
  },
  "cells": [
    {
      "cell_type": "code",
      "execution_count": 7,
      "metadata": {
        "colab": {
          "base_uri": "https://localhost:8080/"
        },
        "id": "_UrmSSqdFpzM",
        "outputId": "67191d0b-8566-4aeb-8c72-987627a2d596"
      },
      "outputs": [
        {
          "output_type": "stream",
          "name": "stdout",
          "text": [
            "Digite o raio do círculo: 15\n",
            "Diâmetro: 30\n",
            "Circunferência: 94.2477\n",
            "Área: 706.85775\n"
          ]
        }
      ],
      "source": [
        "# Solicita ao usuário o raio do círculo\n",
        "raio = int(input(\"Digite o raio do círculo: \"))\n",
        "\n",
        "# Define o valor de pi\n",
        "pi = 3.14159\n",
        "\n",
        "# Calcula as medidas\n",
        "diametro = 2 * raio\n",
        "circunferencia = 2 * pi * raio\n",
        "area = pi * raio * raio\n",
        "\n",
        "# Exibe os resultados\n",
        "print(f\"Diâmetro: {diametro}\")\n",
        "print(f\"Circunferência: {circunferencia}\")\n",
        "print(f\"Área: {area}\")\n",
        "\n"
      ]
    }
  ]
}