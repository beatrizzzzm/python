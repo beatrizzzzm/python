{
  "nbformat": 4,
  "nbformat_minor": 0,
  "metadata": {
    "colab": {
      "provenance": []
    },
    "kernelspec": {
      "name": "python3",
      "display_name": "Python 3"
    },
    "language_info": {
      "name": "python"
    }
  },
  "cells": [
    {
      "cell_type": "code",
      "execution_count": 8,
      "metadata": {
        "colab": {
          "base_uri": "https://localhost:8080/"
        },
        "id": "_UrmSSqdFpzM",
        "outputId": "5c155a81-6a42-44f7-c09d-40cb3ba56c58"
      },
      "outputs": [
        {
          "output_type": "stream",
          "name": "stdout",
          "text": [
            "Estimativa de crescimento populacional mundial:\n",
            "População atual: 8,225,409,613\n",
            "Ano 1: 8,294,174,037\n",
            "Ano 2: 8,363,513,332\n",
            "Ano 3: 8,433,432,303\n",
            "Ano 4: 8,503,935,797\n",
            "Ano 5: 8,575,028,701\n"
          ]
        }
      ],
      "source": [
        "# População mundial atual (2025)\n",
        "populacao_atual = 8225409613\n",
        "\n",
        "# Taxa de crescimento anual (0,836%)\n",
        "taxa_crescimento = 0.00836\n",
        "\n",
        "print(\"Estimativa de crescimento populacional mundial:\")\n",
        "print(f\"População atual: {populacao_atual:,}\")\n",
        "\n",
        "# Calcula e exibe a população estimada para os próximos 5 anos\n",
        "for ano in range(1, 6):\n",
        "    populacao_estimada = populacao_atual * ((1 + taxa_crescimento) ** ano)\n",
        "    print(f\"Ano {ano}: {int(populacao_estimada):,}\")\n"
      ]
    }
  ]
}