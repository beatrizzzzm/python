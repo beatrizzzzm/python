{
  "nbformat": 4,
  "nbformat_minor": 0,
  "metadata": {
    "colab": {
      "provenance": []
    },
    "kernelspec": {
      "name": "python3",
      "display_name": "Python 3"
    },
    "language_info": {
      "name": "python"
    }
  },
  "cells": [
    {
      "cell_type": "code",
      "execution_count": 4,
      "metadata": {
        "colab": {
          "base_uri": "https://localhost:8080/"
        },
        "id": "_UrmSSqdFpzM",
        "outputId": "b2df258f-29fd-4f69-d928-3c7d8eb7ee8c"
      },
      "outputs": [
        {
          "output_type": "stream",
          "name": "stdout",
          "text": [
            "Digite o raio do círculo: 5\n",
            "Diâmetro: 10\n",
            "Circunferência: 31.4159\n",
            "Área: 78.53975\n"
          ]
        }
      ],
      "source": [
        "# Solicita ao usuário o raio do círculo\n",
        "raio = int(input(\"Digite o raio do círculo: \"))\n",
        "\n",
        "# Define o valor de pi\n",
        "pi = 3.14159\n",
        "\n",
        "# Calcula as medidas\n",
        "diametro = 2 * raio\n",
        "circunferencia = 2 * pi * raio\n",
        "area = pi * raio * raio\n",
        "\n",
        "# Exibe os resultados\n",
        "print(f\"Diâmetro: {diametro}\")\n",
        "print(f\"Circunferência: {circunferencia}\")\n",
        "print(f\"Área: {area}\")\n"
      ]
    }
  ]
}