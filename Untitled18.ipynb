{
  "nbformat": 4,
  "nbformat_minor": 0,
  "metadata": {
    "colab": {
      "provenance": []
    },
    "kernelspec": {
      "name": "python3",
      "display_name": "Python 3"
    },
    "language_info": {
      "name": "python"
    }
  },
  "cells": [
    {
      "cell_type": "code",
      "execution_count": 6,
      "metadata": {
        "colab": {
          "base_uri": "https://localhost:8080/"
        },
        "id": "_UrmSSqdFpzM",
        "outputId": "b197d08b-f07a-4c56-f67e-2c206a7323b6"
      },
      "outputs": [
        {
          "output_type": "stream",
          "name": "stdout",
          "text": [
            "Digite um número de 5 dígitos: 42339\n",
            "4   2   3   3   9\n"
          ]
        }
      ],
      "source": [
        "# Solicita ao usuário um número de 5 dígitos\n",
        "numero = int(input(\"Digite um número de 5 dígitos: \"))\n",
        "\n",
        "# Verifica se o número tem exatamente 5 dígitos\n",
        "if 10000 <= numero <= 99999:\n",
        "    # Separa os dígitos usando divisão inteira e resto da divisão (módulo)\n",
        "    digito1 = numero // 10000\n",
        "    digito2 = (numero % 10000) // 1000\n",
        "    digito3 = (numero % 1000) // 100\n",
        "    digito4 = (numero % 100) // 10\n",
        "    digito5 = numero % 10\n",
        "\n",
        "    # Exibe os dígitos separados por três espaços\n",
        "    print(digito1, digito2, digito3, digito4, digito5, sep=\"   \")\n",
        "\n",
        "else:\n",
        "    print(\"Número inválido! Por favor, digite um número com 5 dígitos.\")\n",
        "\n"
      ]
    }
  ]
}